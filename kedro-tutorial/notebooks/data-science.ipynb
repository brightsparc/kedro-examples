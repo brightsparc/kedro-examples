{
 "cells": [
  {
   "cell_type": "code",
   "execution_count": null,
   "metadata": {},
   "outputs": [],
   "source": [
    "!kedro install"
   ]
  },
  {
   "cell_type": "code",
   "execution_count": null,
   "metadata": {},
   "outputs": [],
   "source": [
    "!aws s3 ls kedro-ap-southeast-2-691313291965"
   ]
  },
  {
   "cell_type": "code",
   "execution_count": null,
   "metadata": {},
   "outputs": [],
   "source": [
    "import logging.config\n",
    "from pathlib import Path\n",
    "\n",
    "from IPython.core.magic import register_line_magic\n",
    "\n",
    "# Find the project root (./../../../)\n",
    "startup_error = None\n",
    "project_path = Path('..').resolve()\n",
    "\n",
    "@register_line_magic\n",
    "def reload_kedro(path=None, line=None):\n",
    "    \"\"\"\"Line magic which reloads all Kedro default variables.\"\"\"\n",
    "    global startup_error\n",
    "    global context\n",
    "    global catalog\n",
    "\n",
    "    try:\n",
    "        import kedro.config.default_logger\n",
    "        from kedro.context import load_context\n",
    "        from kedro.cli.jupyter import collect_line_magic\n",
    "    except ImportError:\n",
    "        logging.error(\n",
    "            \"Kedro appears not to be installed in your current environment \"\n",
    "            \"or your current IPython session was not started in a valid Kedro project.\"\n",
    "        )\n",
    "        raise\n",
    "\n",
    "    try:\n",
    "        path = path or project_path\n",
    "        logging.debug(\"Loading the context from %s\", str(path))\n",
    "\n",
    "        context = load_context(path)\n",
    "        catalog = context.catalog\n",
    "        logging.info(\"** Kedro project %s\", str(context.project_name))\n",
    "        logging.info(\"Defined global variable `context` and `catalog`\")\n",
    "\n",
    "        for line_magic in collect_line_magic():\n",
    "            register_line_magic(line_magic)\n",
    "            logging.info(\"Registered line magic `%s`\", line_magic.__name__)\n",
    "    except Exception as err:\n",
    "        startup_error = err\n",
    "        logging.exception(\n",
    "            \"Kedro's ipython session startup script failed:\\n%s\", str(err)\n",
    "        )\n",
    "        raise err\n",
    "        \n",
    "reload_kedro()"
   ]
  },
  {
   "cell_type": "code",
   "execution_count": null,
   "metadata": {},
   "outputs": [],
   "source": [
    "context.run()"
   ]
  },
  {
   "cell_type": "code",
   "execution_count": null,
   "metadata": {},
   "outputs": [],
   "source": [
    "df = context.catalog.load(\"master_table\")\n",
    "df.shape"
   ]
  },
  {
   "cell_type": "code",
   "execution_count": null,
   "metadata": {},
   "outputs": [],
   "source": [
    "# TODO: Create sklearn model that does split/train on this data"
   ]
  },
  {
   "cell_type": "code",
   "execution_count": null,
   "metadata": {},
   "outputs": [],
   "source": []
  }
 ],
 "metadata": {
  "kernelspec": {
   "display_name": "kedro_test",
   "language": "python",
   "name": "kedro_test"
  },
  "language_info": {
   "codemirror_mode": {
    "name": "ipython",
    "version": 3
   },
   "file_extension": ".py",
   "mimetype": "text/x-python",
   "name": "python",
   "nbconvert_exporter": "python",
   "pygments_lexer": "ipython3",
   "version": "3.6.9"
  }
 },
 "nbformat": 4,
 "nbformat_minor": 2
}
